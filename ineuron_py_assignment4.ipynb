{
 "cells": [
  {
   "cell_type": "markdown",
   "id": "66aa05ef",
   "metadata": {},
   "source": [
    " # Q1)Write a Python Program(with class concepts) to find the area of the triangle using the below formula.\n",
    "# area = (s*(s-a)*(s-b)*(s-c)) ** 0.5\n",
    "# Function to take the length of the sides of triangle from user should be defined in the parent class and function to calculate the area should be defined in subclass."
   ]
  },
  {
   "cell_type": "code",
   "execution_count": 1,
   "id": "26e1e3e0",
   "metadata": {},
   "outputs": [],
   "source": [
    "class Triangle:\n",
    "    def __init__(self):\n",
    "        self.a = float(input(\"Enter side a: \"))\n",
    "        self.b = float(input(\"Enter side b: \"))\n",
    "        self.c = float(input(\"Enter side c: \"))"
   ]
  },
  {
   "cell_type": "code",
   "execution_count": 2,
   "id": "8ab3c19f",
   "metadata": {},
   "outputs": [],
   "source": [
    "class Area(Triangle):\n",
    "    def area(self):\n",
    "        s = (self.a + self.b + self.c) / 2\n",
    "        area = (s * (s - self.a)*(s - self.b)*(s - self.c)) ** 0.5\n",
    "        print(\"Area of traingle is \",area,\" cm\\u00b2\")"
   ]
  },
  {
   "cell_type": "code",
   "execution_count": 5,
   "id": "65440b19",
   "metadata": {},
   "outputs": [
    {
     "name": "stdout",
     "output_type": "stream",
     "text": [
      "Enter side a: 9\n",
      "Enter side b: 8\n",
      "Enter side c: 2\n",
      "Area of traingle is  7.310095758606723  cm²\n"
     ]
    }
   ],
   "source": [
    "a = Area()\n",
    "a.area()\n"
   ]
  },
  {
   "cell_type": "markdown",
   "id": "37c41a04",
   "metadata": {},
   "source": [
    "# Write a function filter_long_words() that takes a list of words and an integer n and  returns the list of words that are longer than n"
   ]
  },
  {
   "cell_type": "code",
   "execution_count": 22,
   "id": "89b24afd",
   "metadata": {},
   "outputs": [],
   "source": [
    "def filter_long_words(list1,n):\n",
    "    list2=[]\n",
    "    for i in range(0,len(list1)):\n",
    "        if len(list1[i])>n:\n",
    "            list2.append(list1[i])\n",
    "    return list2"
   ]
  },
  {
   "cell_type": "code",
   "execution_count": 23,
   "id": "c41feb34",
   "metadata": {},
   "outputs": [
    {
     "data": {
      "text/plain": [
       "['git hub',\n",
       " 'prrogramming',\n",
       " 'deep learning',\n",
       " 'machine learning',\n",
       " 'data science']"
      ]
     },
     "execution_count": 23,
     "metadata": {},
     "output_type": "execute_result"
    }
   ],
   "source": [
    "lst = [\"ml\",\"stats\",\"dl\",\"learn\",\"nb\",\"file\", \"git hub\", \"prrogramming\", \"deep learning\", \"machine learning\", \"data science\"]\n",
    "filter_long_words(lst,5)"
   ]
  },
  {
   "cell_type": "markdown",
   "id": "080f889b",
   "metadata": {},
   "source": [
    " # Write a Python program using function concept that maps list of words into a list of integers representing the lengths of the corresponding words.\n",
    " # Hint: If a list [ ab,cde,erty] is passed on to the python function output should come as [2,3,4] Here 2,3 and 4 are the lengths of the words in the list."
   ]
  },
  {
   "cell_type": "code",
   "execution_count": 28,
   "id": "be1e4bed",
   "metadata": {},
   "outputs": [],
   "source": [
    "def find_length(list1):\n",
    "    new_list=[]\n",
    "    for i in range (0,len(list1)):\n",
    "        new_list.append(len(list1[i]))\n",
    "    return new_list"
   ]
  },
  {
   "cell_type": "code",
   "execution_count": 29,
   "id": "b1707390",
   "metadata": {},
   "outputs": [
    {
     "data": {
      "text/plain": [
       "[2, 3, 4]"
      ]
     },
     "execution_count": 29,
     "metadata": {},
     "output_type": "execute_result"
    }
   ],
   "source": [
    "list2=['ab','cde','erty']\n",
    "find_length(list2)"
   ]
  },
  {
   "cell_type": "markdown",
   "id": "426ffd14",
   "metadata": {},
   "source": [
    " # Write a Python function which takes a character (i.e. a string of length 1) and returns True if it is a vowel, False otherwise."
   ]
  },
  {
   "cell_type": "code",
   "execution_count": 32,
   "id": "29da7304",
   "metadata": {},
   "outputs": [],
   "source": [
    "def vowel(x):\n",
    "    if len(x)==1:\n",
    "        if x in ('a','e','i','o','u','A','E','I','O','U'):\n",
    "            return True \n",
    "        else:\n",
    "            return False\n",
    "    else:\n",
    "        print('Please type only 1 letter')\n",
    "    "
   ]
  },
  {
   "cell_type": "code",
   "execution_count": 34,
   "id": "54817576",
   "metadata": {},
   "outputs": [
    {
     "name": "stdout",
     "output_type": "stream",
     "text": [
      "True\n",
      "False\n",
      "True\n",
      "Please type only 1 letter\n",
      "None\n"
     ]
    }
   ],
   "source": [
    "print(vowel('i'))\n",
    "print(vowel('k'))\n",
    "print(vowel('A'))\n",
    "print(vowel('ok'))"
   ]
  },
  {
   "cell_type": "code",
   "execution_count": null,
   "id": "5edacf0c",
   "metadata": {},
   "outputs": [],
   "source": []
  }
 ],
 "metadata": {
  "kernelspec": {
   "display_name": "Python 3",
   "language": "python",
   "name": "python3"
  },
  "language_info": {
   "codemirror_mode": {
    "name": "ipython",
    "version": 3
   },
   "file_extension": ".py",
   "mimetype": "text/x-python",
   "name": "python",
   "nbconvert_exporter": "python",
   "pygments_lexer": "ipython3",
   "version": "3.8.8"
  }
 },
 "nbformat": 4,
 "nbformat_minor": 5
}
