{
 "cells": [
  {
   "cell_type": "code",
   "execution_count": null,
   "id": "d78782c6",
   "metadata": {},
   "outputs": [],
   "source": [
    "\"\"\"\n",
    "Write a function so that the columns of the output matrix are powers of the input vector.\n",
    "The order of the powers is determined by the increasing boolean argument. Specifically, when increasing is False,\n",
    "the i-th output column is the input vector raised element-wise to the power of N - i - 1.\n",
    "\n",
    "HINT: Such a matrix with a geometric progression in each row is named for Alexandre-Theophile Vandermonde.\"\"\"\n"
   ]
  },
  {
   "cell_type": "code",
   "execution_count": 1,
   "id": "7c274515",
   "metadata": {},
   "outputs": [],
   "source": [
    "import numpy as np"
   ]
  },
  {
   "cell_type": "code",
   "execution_count": 2,
   "id": "fe16dee7",
   "metadata": {},
   "outputs": [],
   "source": [
    "def alexTheoVander(iVector, n, increasing = False):\n",
    "    if increasing:\n",
    "        oMatrix = np.matrix([x**i for x in iVector for i in range(n)]).reshape(iVector.size, n)\n",
    "    else:\n",
    "        oMatrix = np.matrix([x**(n-i-1) for x in iVector for i in range(n)]).reshape(iVector.size, n)\n",
    "    return oMatrix"
   ]
  },
  {
   "cell_type": "code",
   "execution_count": 3,
   "id": "1d0f352b",
   "metadata": {},
   "outputs": [],
   "source": [
    "iVector = np.array([1, 3, 5, 7, 9])\n",
    "n = 5"
   ]
  },
  {
   "cell_type": "code",
   "execution_count": 4,
   "id": "070a78f4",
   "metadata": {},
   "outputs": [
    {
     "data": {
      "text/plain": [
       "matrix([[   1,    1,    1,    1,    1],\n",
       "        [   1,    3,    9,   27,   81],\n",
       "        [   1,    5,   25,  125,  625],\n",
       "        [   1,    7,   49,  343, 2401],\n",
       "        [   1,    9,   81,  729, 6561]])"
      ]
     },
     "execution_count": 4,
     "metadata": {},
     "output_type": "execute_result"
    }
   ],
   "source": [
    "oMtarix_asc = alexTheoVander(iVector, n, True)\n",
    "oMtarix_asc"
   ]
  },
  {
   "cell_type": "code",
   "execution_count": 5,
   "id": "f430f7b0",
   "metadata": {},
   "outputs": [
    {
     "data": {
      "text/plain": [
       "matrix([[   1,    1,    1,    1,    1],\n",
       "        [  81,   27,    9,    3,    1],\n",
       "        [ 625,  125,   25,    5,    1],\n",
       "        [2401,  343,   49,    7,    1],\n",
       "        [6561,  729,   81,    9,    1]])"
      ]
     },
     "execution_count": 5,
     "metadata": {},
     "output_type": "execute_result"
    }
   ],
   "source": [
    "oMtarix_desc = alexTheoVander(iVector, n, False)\n",
    "oMtarix_desc"
   ]
  },
  {
   "cell_type": "code",
   "execution_count": 6,
   "id": "6be5f2cb",
   "metadata": {},
   "outputs": [],
   "source": [
    "#Write a function to find moving average in an array over a window:\n",
    "#Test it over [3, 5, 7, 2, 8, 10, 11, 65, 72, 81, 99, 100, 150] and window of 3"
   ]
  },
  {
   "cell_type": "code",
   "execution_count": 7,
   "id": "d1f85510",
   "metadata": {},
   "outputs": [],
   "source": [
    "def movingAverage(inputValue, k):\n",
    "    z = 1\n",
    "    output = np.convolve(inputValue, np.ones(k), 'valid') / k\n",
    "    for i in output:\n",
    "        print(\"y{0} = {1:.2f}\".format(z, i))\n",
    "        z += 1"
   ]
  },
  {
   "cell_type": "code",
   "execution_count": 8,
   "id": "e5d761fa",
   "metadata": {},
   "outputs": [
    {
     "name": "stdout",
     "output_type": "stream",
     "text": [
      "y1 = 5.00\n",
      "y2 = 4.67\n",
      "y3 = 5.67\n",
      "y4 = 6.67\n",
      "y5 = 9.67\n",
      "y6 = 28.67\n",
      "y7 = 49.33\n",
      "y8 = 72.67\n",
      "y9 = 84.00\n",
      "y10 = 93.33\n",
      "y11 = 116.33\n"
     ]
    }
   ],
   "source": [
    "inputValue = np.array([3, 5, 7, 2, 8, 10, 11, 65, 72, 81, 99, 100, 150])\n",
    "k = 3\n",
    "movingAverage(inputValue, k)"
   ]
  },
  {
   "cell_type": "code",
   "execution_count": null,
   "id": "9ada68d5",
   "metadata": {},
   "outputs": [],
   "source": []
  },
  {
   "cell_type": "code",
   "execution_count": null,
   "id": "af853a03",
   "metadata": {},
   "outputs": [],
   "source": []
  },
  {
   "cell_type": "code",
   "execution_count": null,
   "id": "1fc4da53",
   "metadata": {},
   "outputs": [],
   "source": []
  }
 ],
 "metadata": {
  "kernelspec": {
   "display_name": "Python 3",
   "language": "python",
   "name": "python3"
  },
  "language_info": {
   "codemirror_mode": {
    "name": "ipython",
    "version": 3
   },
   "file_extension": ".py",
   "mimetype": "text/x-python",
   "name": "python",
   "nbconvert_exporter": "python",
   "pygments_lexer": "ipython3",
   "version": "3.8.8"
  }
 },
 "nbformat": 4,
 "nbformat_minor": 5
}
