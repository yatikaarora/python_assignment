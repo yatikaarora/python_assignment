{
 "cells": [
  {
   "cell_type": "markdown",
   "id": "4cb5f348",
   "metadata": {},
   "source": [
    "# 1) Write a Python Program to implement your own myreduce() function which works exactly like Python's built-in function reduce()"
   ]
  },
  {
   "cell_type": "code",
   "execution_count": 1,
   "id": "10a280bf",
   "metadata": {},
   "outputs": [],
   "source": [
    "def myreduce(func, values):\n",
    "    result = values[0]\n",
    "    for i in values[1:]:\n",
    "        result = func(result, i)\n",
    "    return result"
   ]
  },
  {
   "cell_type": "code",
   "execution_count": 2,
   "id": "9daf9b73",
   "metadata": {},
   "outputs": [],
   "source": [
    "def func(a, b):\n",
    "    return a * b"
   ]
  },
  {
   "cell_type": "code",
   "execution_count": 9,
   "id": "327f8012",
   "metadata": {},
   "outputs": [
    {
     "name": "stdout",
     "output_type": "stream",
     "text": [
      "My Reduce Output is: 227448000000\n"
     ]
    }
   ],
   "source": [
    "l = [2,5,6,16,25,60,45,39,90]\n",
    "print(f\"My Reduce Output is: {myreduce(func, l)}\")\n"
   ]
  },
  {
   "cell_type": "markdown",
   "id": "89f701ab",
   "metadata": {},
   "source": [
    "# Write a Python program to implement your own myfilter() function which works exactly like Python's built-in function filter()"
   ]
  },
  {
   "cell_type": "code",
   "execution_count": 4,
   "id": "7cf12019",
   "metadata": {},
   "outputs": [],
   "source": [
    "def myfilter(fun, values):\n",
    "    result = list()\n",
    "    for i in values:\n",
    "        if fun(i):\n",
    "            result.append(i)\n",
    "    return result\n"
   ]
  },
  {
   "cell_type": "code",
   "execution_count": 5,
   "id": "387a8272",
   "metadata": {},
   "outputs": [],
   "source": [
    "def fun(x):\n",
    "    if x % 5 == 0:\n",
    "        return True\n",
    "    else:\n",
    "        return False"
   ]
  },
  {
   "cell_type": "code",
   "execution_count": 8,
   "id": "2233577f",
   "metadata": {},
   "outputs": [
    {
     "name": "stdout",
     "output_type": "stream",
     "text": [
      "My Filter Output is: [100, 25, 60, 45, 90]\n"
     ]
    }
   ],
   "source": [
    "lst = [16,46,100,34,25,60,45,39,90]\n",
    "print(f\"My Filter Output is: {myfilter(fun, lst)}\")\n"
   ]
  },
  {
   "cell_type": "markdown",
   "id": "1faa442e",
   "metadata": {},
   "source": [
    "# Implement List comprehensions to produce the following lists. \n"
   ]
  },
  {
   "cell_type": "markdown",
   "id": "9f725c7d",
   "metadata": {},
   "source": [
    "# ['x', 'xx', 'xxx', 'xxxx', 'y', 'yy', 'yyy', 'yyyy', 'z', 'zz', 'zzz', 'zzzz']"
   ]
  },
  {
   "cell_type": "code",
   "execution_count": 18,
   "id": "998b4b0f",
   "metadata": {},
   "outputs": [
    {
     "name": "stdout",
     "output_type": "stream",
     "text": [
      "['x', 'xx', 'xxx', 'xxxx', 'y', 'yy', 'yyy', 'yyyy', 'z', 'zz', 'zzz', 'zzzz']\n"
     ]
    }
   ],
   "source": [
    "l = ['x', 'y', 'z']\n",
    "list1=[i*j for j in l for i in range(1, 5)]\n",
    "print(list1)"
   ]
  },
  {
   "cell_type": "markdown",
   "id": "16766648",
   "metadata": {},
   "source": [
    "#  ['x', 'y', 'z', 'xx', 'yy', 'zz', 'xxx', 'yyy', 'zzz', 'xxxx', 'yyyy', 'zzzz']"
   ]
  },
  {
   "cell_type": "code",
   "execution_count": 20,
   "id": "d110f19f",
   "metadata": {},
   "outputs": [
    {
     "name": "stdout",
     "output_type": "stream",
     "text": [
      "['x', 'y', 'z', 'xx', 'yy', 'zz', 'xxx', 'yyy', 'zzz', 'xxxx', 'yyyy', 'zzzz']\n"
     ]
    }
   ],
   "source": [
    "l = ['x', 'y', 'z']\n",
    "list2 = [i*j for j in range(1, 5) for i in l]\n",
    "print(list2)"
   ]
  },
  {
   "cell_type": "markdown",
   "id": "7e301cfe",
   "metadata": {},
   "source": [
    " # [[2], [3], [4], [3], [4], [5], [4], [5], [6]], [[2, 3, 4, 5], [3, 4, 5, 6],[4, 5, 6, 7], [5, 6, 7, 8]]"
   ]
  },
  {
   "cell_type": "code",
   "execution_count": 28,
   "id": "565a881a",
   "metadata": {},
   "outputs": [
    {
     "name": "stdout",
     "output_type": "stream",
     "text": [
      "[[2], [3], [4], [3], [4], [5], [4], [5], [6], [2, 3, 4, 5], [3, 4, 5, 6], [4, 5, 6, 7], [5, 6, 7, 8]]\n"
     ]
    }
   ],
   "source": [
    "list3 = [[x + y] for y in range(3) for x in range(2, 5)]\n",
    "list4 = [[a+b for b in range(2, 6)] for a in range(4)]\n",
    "print(list3+list4)"
   ]
  },
  {
   "cell_type": "markdown",
   "id": "bc299a8d",
   "metadata": {},
   "source": [
    "# [(1, 1), (2, 1), (3, 1), (1, 2), (2, 2), (3, 2), (1, 3), (2, 3), (3, 3)]"
   ]
  },
  {
   "cell_type": "code",
   "execution_count": 29,
   "id": "4da6d873",
   "metadata": {},
   "outputs": [
    {
     "name": "stdout",
     "output_type": "stream",
     "text": [
      "[(1, 1), (2, 1), (3, 1), (1, 2), (2, 2), (3, 2), (1, 3), (2, 3), (3, 3)]\n"
     ]
    }
   ],
   "source": [
    "list5 = [(x, y) for y in range(1, 4) for x in range(1, 4)]\n",
    "print(list5)"
   ]
  },
  {
   "cell_type": "code",
   "execution_count": null,
   "id": "2f5a5dd4",
   "metadata": {},
   "outputs": [],
   "source": []
  }
 ],
 "metadata": {
  "kernelspec": {
   "display_name": "Python 3",
   "language": "python",
   "name": "python3"
  },
  "language_info": {
   "codemirror_mode": {
    "name": "ipython",
    "version": 3
   },
   "file_extension": ".py",
   "mimetype": "text/x-python",
   "name": "python",
   "nbconvert_exporter": "python",
   "pygments_lexer": "ipython3",
   "version": "3.8.8"
  }
 },
 "nbformat": 4,
 "nbformat_minor": 5
}
