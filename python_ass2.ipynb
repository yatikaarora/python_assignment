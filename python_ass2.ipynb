{
 "cells": [
  {
   "cell_type": "code",
   "execution_count": 2,
   "metadata": {},
   "outputs": [
    {
     "name": "stdout",
     "output_type": "stream",
     "text": [
      ".\r\n",
      "..\r\n",
      "...\r\n",
      "....\r\n",
      ".....\r\n",
      "....\r\n",
      "...\r\n",
      "..\r\n",
      ".\r\n"
     ]
    }
   ],
   "source": [
    "# ques 1\n",
    "# printing the given pattern\n",
    "for i in range(0,4):\n",
    "    for j in range(0,i+1):\n",
    "        print(\".\",end=\"\")\n",
    "    print(\"\\r\")\n",
    "for m in range(0,5):\n",
    "    for n in range(m-1,4):\n",
    "        print(\".\",end=\"\")\n",
    "    print(\"\\r\")"
   ]
  },
  {
   "cell_type": "code",
   "execution_count": 16,
   "metadata": {},
   "outputs": [
    {
     "name": "stdout",
     "output_type": "stream",
     "text": [
      "enter the word to be reveresed: yatik\n",
      "The original word is :  yatik\n",
      "The reversed word is :  kitay\n"
     ]
    }
   ],
   "source": [
    "# ques 2\n",
    "# reversing the input word\n",
    "def reverse(s):\n",
    "    \"\"\"reversing the word\"\"\"\n",
    "    str = \"\"\n",
    "    for i in s:\n",
    "        str = i + str\n",
    "    return str\n",
    "s= input(\"enter the word to be reveresed: \")\n",
    "print (\"The original word is : \",s)  \n",
    "print (\"The reversed word is : \", reverse(s) )\n"
   ]
  }
 ],
 "metadata": {
  "kernelspec": {
   "display_name": "Python 3",
   "language": "python",
   "name": "python3"
  },
  "language_info": {
   "codemirror_mode": {
    "name": "ipython",
    "version": 3
   },
   "file_extension": ".py",
   "mimetype": "text/x-python",
   "name": "python",
   "nbconvert_exporter": "python",
   "pygments_lexer": "ipython3",
   "version": "3.8.5"
  }
 },
 "nbformat": 4,
 "nbformat_minor": 4
}
