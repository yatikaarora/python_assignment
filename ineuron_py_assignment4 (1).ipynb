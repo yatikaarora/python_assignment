{
 "cells": [
  {
   "cell_type": "markdown",
   "id": "66aa05ef",
   "metadata": {},
   "source": [
    "## Q1)Write a Python Program(with class concepts) to find the area of the triangle using the below formula.\n",
    "#area = (s*(s-a)*(s-b)*(s-c)) ** 0.5\n",
    "#Function to take the length of the sides of triangle from user should be defined in the parent class and function to calculate the area should be defined in subclass."
   ]
  },
  {
   "cell_type": "code",
   "execution_count": 1,
   "id": "26e1e3e0",
   "metadata": {},
   "outputs": [],
   "source": [
    "class Triangle:\n",
    "    def __init__(self):\n",
    "        self.a = float(input(\"Enter side a: \"))\n",
    "        self.b = float(input(\"Enter side b: \"))\n",
    "        self.c = float(input(\"Enter side c: \"))"
   ]
  },
  {
   "cell_type": "code",
   "execution_count": 2,
   "id": "8ab3c19f",
   "metadata": {},
   "outputs": [],
   "source": [
    "class Area(Triangle):\n",
    "    def area(self):\n",
    "        s = (self.a + self.b + self.c) / 2\n",
    "        area = (s * (s - self.a)*(s - self.b)*(s - self.c)) ** 0.5\n",
    "        print(\"Area of traingle is \",area,\" cm\\u00b2\")"
   ]
  },
  {
   "cell_type": "code",
   "execution_count": 3,
   "id": "65440b19",
   "metadata": {},
   "outputs": [
    {
     "name": "stdout",
     "output_type": "stream",
     "text": [
      "Enter side a: 5\n",
      "Enter side b: 5\n",
      "Enter side c: 5\n",
      "Area of traingle is  10.825317547305483  cm²\n"
     ]
    }
   ],
   "source": [
    "a = Area()\n",
    "a.area()\n"
   ]
  },
  {
   "cell_type": "markdown",
   "id": "37c41a04",
   "metadata": {},
   "source": [
    "#2)Write a function filter_long_words() that takes a list of words and an integer n and  returns the list of words that are longer than n"
   ]
  },
  {
   "cell_type": "code",
   "execution_count": 17,
   "id": "89b24afd",
   "metadata": {},
   "outputs": [],
   "source": [
    "def filter_long_words(list,n):\n",
    "    list1=[]\n",
    "    for i in range(0,len(list)):\n",
    "        if len(list[i])>n:\n",
    "            list1.append(list[i])\n",
    "    return list1"
   ]
  },
  {
   "cell_type": "code",
   "execution_count": 18,
   "id": "c41feb34",
   "metadata": {},
   "outputs": [
    {
     "data": {
      "text/plain": [
       "['ineuron', 'assignments', 'knowledge', 'students', 'teachers', 'bangalore']"
      ]
     },
     "execution_count": 18,
     "metadata": {},
     "output_type": "execute_result"
    }
   ],
   "source": [
    "test_list=[\"key\",\"hi\",\"int\",\"ineuron\",\"assignments\",\"knowledge\",\"words\",\"type\",\"students\",\"teachers\",\"bangalore\"]\n",
    "num=5\n",
    "filter_long_words(test_list,num)"
   ]
  },
  {
   "cell_type": "markdown",
   "id": "080f889b",
   "metadata": {},
   "source": [
    "## Write a Python program using function concept that maps list of words into a list of integers representing the lengths of the corresponding words."
   ]
  },
  {
   "cell_type": "code",
   "execution_count": 30,
   "id": "be1e4bed",
   "metadata": {},
   "outputs": [],
   "source": [
    "def word_len(list2):\n",
    "    lst=[]\n",
    "    for i in range(0,len(list2)):\n",
    "        lst.append(len(list2[i]))\n",
    "    return lst"
   ]
  },
  {
   "cell_type": "code",
   "execution_count": 31,
   "id": "b1707390",
   "metadata": {},
   "outputs": [
    {
     "data": {
      "text/plain": [
       "[2, 3, 4]"
      ]
     },
     "execution_count": 31,
     "metadata": {},
     "output_type": "execute_result"
    }
   ],
   "source": [
    "l=['ab','cde','erty']\n",
    "word_len(l)"
   ]
  },
  {
   "cell_type": "markdown",
   "id": "426ffd14",
   "metadata": {},
   "source": [
    " # Write a Python function which takes a character (i.e. a string of length 1) and returns True if it is a vowel, False otherwise."
   ]
  },
  {
   "cell_type": "code",
   "execution_count": 37,
   "id": "29da7304",
   "metadata": {},
   "outputs": [],
   "source": [
    "def is_vowel(x):\n",
    "    if len(x)==1:\n",
    "        if x in ('a','e','i','o','u','A','E','I','O','U'):\n",
    "            return True \n",
    "        else:\n",
    "            return False\n",
    "    else:\n",
    "        print('Please type only 1 letter')\n",
    "    "
   ]
  },
  {
   "cell_type": "code",
   "execution_count": 41,
   "id": "54817576",
   "metadata": {},
   "outputs": [
    {
     "name": "stdout",
     "output_type": "stream",
     "text": [
      "enter the letter: e\n"
     ]
    },
    {
     "data": {
      "text/plain": [
       "True"
      ]
     },
     "execution_count": 41,
     "metadata": {},
     "output_type": "execute_result"
    }
   ],
   "source": [
    "is_vowel(input(\"enter the letter: \"))"
   ]
  },
  {
   "cell_type": "code",
   "execution_count": null,
   "id": "5edacf0c",
   "metadata": {},
   "outputs": [],
   "source": []
  }
 ],
 "metadata": {
  "kernelspec": {
   "display_name": "Python 3",
   "language": "python",
   "name": "python3"
  },
  "language_info": {
   "codemirror_mode": {
    "name": "ipython",
    "version": 3
   },
   "file_extension": ".py",
   "mimetype": "text/x-python",
   "name": "python",
   "nbconvert_exporter": "python",
   "pygments_lexer": "ipython3",
   "version": "3.8.8"
  }
 },
 "nbformat": 4,
 "nbformat_minor": 5
}
